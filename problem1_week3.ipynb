{
  "cells": [
    {
      "cell_type": "markdown",
      "metadata": {
        "id": "view-in-github",
        "colab_type": "text"
      },
      "source": [
        "<a href=\"https://colab.research.google.com/github/Riab22209/CE880-Lab-Task-repository/blob/main/problem1_week3.ipynb\" target=\"_parent\"><img src=\"https://colab.research.google.com/assets/colab-badge.svg\" alt=\"Open In Colab\"/></a>"
      ]
    },
    {
      "cell_type": "markdown",
      "metadata": {
        "id": "6HvDfGDuE5mN"
      },
      "source": [
        "---\n",
        "# Welcome to CE880\n",
        "### This is your week-3 : Problem 1 notebook\n",
        "\n",
        "For this problem set, we'll be using the Jupyter notebook and please upload this notebook to [Google Colab](https://colab.research.google.com/). \n"
      ]
    },
    {
      "cell_type": "markdown",
      "metadata": {
        "id": "ZlWkgitfE5mO"
      },
      "source": [
        "---\n",
        "## Question 1:\n",
        "\n",
        "We have already loaded `iris` dataset for you. Now, write a function to calculate the `median` on the 1st column of the dataset. \n",
        "`Hint`: To find the median, you first need to sort the values in your sample. But, before that we have sliced, the first column of `iris` data into a variable name `sample` and data type is a list. Then pass `sample` list as a parameter in you `my_median` function.\n",
        "\n",
        "The `median` of a sample of numeric data is the value that lies in the middle when we sort the data. The data may be sorted in ascending or descending order, the median remains the same. Please also consider what to do if there is no middle value.\n",
        "\n",
        "Please don't use `np.median` function. Write your own custom function"
      ]
    },
    {
      "cell_type": "code",
      "execution_count": 8,
      "metadata": {
        "deletable": false,
        "id": "7FBRZiZUE5mP",
        "nbgrader": {
          "cell_type": "code",
          "checksum": "b57cc4e845034507ed7333ec440e3a70",
          "grade": false,
          "grade_id": "my_median_ans",
          "locked": false,
          "schema_version": 3,
          "solution": true
        },
        "colab": {
          "base_uri": "https://localhost:8080/"
        },
        "outputId": "23aeb8d1-c49e-4dc9-beb5-8a92d8f1816c"
      },
      "outputs": [
        {
          "output_type": "execute_result",
          "data": {
            "text/plain": [
              "5.8"
            ]
          },
          "metadata": {},
          "execution_count": 8
        }
      ],
      "source": [
        "from sklearn import datasets\n",
        "iris = datasets.load_iris()\n",
        "sample = list(iris.data[:,0])\n",
        "\n",
        "def my_median(sample):\n",
        "    \"\"\"Function for calculating median\"\"\"\n",
        "    # YOUR CODE HERE\n",
        "    # sorting the list\n",
        "    sample.sort()\n",
        "    # finding the median\n",
        "    n = len(sample)\n",
        "    if n % 2 == 0:\n",
        "      median = (sample[n//2 - 1] + sample[n//2]) / 2\n",
        "    else:\n",
        "      median = sample[n//2]\n",
        "    return median\n",
        "    #raise NotImplementedError()\n",
        "my_median(sample)"
      ]
    },
    {
      "cell_type": "code",
      "execution_count": 9,
      "metadata": {
        "deletable": false,
        "editable": false,
        "id": "ootdMSn7E5mP",
        "nbgrader": {
          "cell_type": "code",
          "checksum": "7512a6da9468084b73bed8ed1d41ea5c",
          "grade": true,
          "grade_id": "my_median_test",
          "locked": false,
          "points": 1,
          "schema_version": 3,
          "solution": false
        }
      },
      "outputs": [],
      "source": [
        "\"\"\"Check your output\"\"\"\n",
        "import math\n",
        "assert math.isclose(my_median(sample), 5.8, rel_tol=0.05)"
      ]
    },
    {
      "cell_type": "markdown",
      "metadata": {
        "id": "SaECaolwE5mQ"
      },
      "source": [
        "---\n",
        "\n",
        "## Question 2:\n",
        "\n",
        "Write a function to Caluate Interquartile Range (IQR) on the second column of `iris` dataset, which you have loaded in the question 1.\n",
        "`hint`: We have created a new variable `sample2` and sliced the second column of the `iris` data. Please explore `np.percentile` function"
      ]
    },
    {
      "cell_type": "code",
      "execution_count": 18,
      "metadata": {
        "deletable": false,
        "id": "b9pap4PtE5mQ",
        "nbgrader": {
          "cell_type": "code",
          "checksum": "b9fa9c03b96da752988979dc18f31475",
          "grade": false,
          "grade_id": "my_quartile_ans",
          "locked": false,
          "schema_version": 3,
          "solution": true
        },
        "colab": {
          "base_uri": "https://localhost:8080/"
        },
        "outputId": "adda4abc-8be7-41a1-f996-502e441ab359"
      },
      "outputs": [
        {
          "output_type": "execute_result",
          "data": {
            "text/plain": [
              "0.5"
            ]
          },
          "metadata": {},
          "execution_count": 18
        }
      ],
      "source": [
        "import numpy as np\n",
        "sample2 = list(iris.data[:,1])\n",
        "def my_quartile(sample2):\n",
        "    \"\"\"Caluate Interquartile Range of the given list.\"\"\"\n",
        "    # YOUR CODE HERE\n",
        "    #calculate interquartile range \n",
        "    Q3, Q1 = np.percentile(sample2, [75 ,25])\n",
        "    IQR = Q3 - Q1\n",
        "    return IQR\n",
        "    #raise NotImplementedError()\n",
        "my_quartile(sample2)"
      ]
    },
    {
      "cell_type": "code",
      "execution_count": 19,
      "metadata": {
        "deletable": false,
        "editable": false,
        "id": "f2xlQ2igE5mR",
        "nbgrader": {
          "cell_type": "code",
          "checksum": "05188fb6903654dd84d84ca6f9a2b712",
          "grade": true,
          "grade_id": "my_quartile_test",
          "locked": false,
          "points": 2,
          "schema_version": 3,
          "solution": false
        }
      },
      "outputs": [],
      "source": [
        "\"\"\"Check that correct answers here\"\"\"\n",
        "import math\n",
        "assert math.isclose(my_quartile(sample2), 0.5, rel_tol=0.05)"
      ]
    },
    {
      "cell_type": "markdown",
      "metadata": {
        "id": "3viaglBtE5mR"
      },
      "source": [
        "---\n",
        "## Question 3: \n",
        "\n",
        "Write a function to calculate the `standard deviation` on the third column of `iris` dataset. We have created a new variable `sample3` and sliced the third column of the iris data. Please create a function that first calculate the variance then calculate `standard deviation`. Please do not use inbuilt `numpy.var` and `numpy.std` functions. Write your own codes. "
      ]
    },
    {
      "cell_type": "code",
      "execution_count": 20,
      "metadata": {
        "deletable": false,
        "id": "lnmnEfIYE5mR",
        "nbgrader": {
          "cell_type": "code",
          "checksum": "70829cc761711f2debabbca2051aa37a",
          "grade": false,
          "grade_id": "my_std_ans",
          "locked": false,
          "schema_version": 3,
          "solution": true,
          "task": false
        },
        "colab": {
          "base_uri": "https://localhost:8080/"
        },
        "outputId": "93bd12b3-6fe1-44ec-9699-00dc199650cc"
      },
      "outputs": [
        {
          "output_type": "execute_result",
          "data": {
            "text/plain": [
              "1.7652982332594667"
            ]
          },
          "metadata": {},
          "execution_count": 20
        }
      ],
      "source": [
        "import math\n",
        "sample3 = list(iris.data[:,2])\n",
        "def my_std(sample3, ddof=0):\n",
        "    \"\"\"Write a program to calculate the standard deviation of 3rd column of iris dataset.\"\"\"\n",
        "    # YOUR CODE HERE\n",
        "    #find mean value \n",
        "    sum = 0\n",
        "    for i in range(len(sample3)):\n",
        "      sum +=  sample3[i]\n",
        "    mean = sum/len(sample3)   \n",
        "\n",
        "    #square of difference of mean and each value\n",
        "    differencesquared = 0\n",
        "    for i in range(len(sample3)):\n",
        "      differencesquared += (sample3[i] - mean) ** 2\n",
        "\n",
        "    #calculate variance\n",
        "    variance = differencesquared/((len(sample3)) - 1)\n",
        "    #calculate standard deviation\n",
        "    standard_deviation = math.sqrt(variance)\n",
        "    return standard_deviation\n",
        "    #raise NotImplementedError()\n",
        "my_std(sample3, ddof=0)    "
      ]
    },
    {
      "cell_type": "code",
      "execution_count": 21,
      "metadata": {
        "deletable": false,
        "editable": false,
        "id": "6AuPQgQfE5mS",
        "nbgrader": {
          "cell_type": "code",
          "checksum": "e5df038162dee97397ccffce2778b693",
          "grade": true,
          "grade_id": "my_std_test",
          "locked": true,
          "points": 1,
          "schema_version": 3,
          "solution": false,
          "task": false
        }
      },
      "outputs": [],
      "source": [
        "\"\"\"Test your solution\"\"\"\n",
        "assert math.isclose(my_std(sample3), 1.759, rel_tol=0.05)"
      ]
    },
    {
      "cell_type": "markdown",
      "metadata": {
        "id": "MxpRyuPvE5mT"
      },
      "source": [
        "---\n",
        "## Question 4:\n",
        "\n",
        "Write a program to find the mean of the 4th column of `iris` dataset. "
      ]
    },
    {
      "cell_type": "code",
      "execution_count": 24,
      "metadata": {
        "deletable": false,
        "id": "QKk8PKecE5mT",
        "nbgrader": {
          "cell_type": "code",
          "checksum": "f72ac649972796443392e8b5a7cabf66",
          "grade": false,
          "grade_id": "my_mean_ans",
          "locked": false,
          "schema_version": 3,
          "solution": true,
          "task": false
        },
        "colab": {
          "base_uri": "https://localhost:8080/"
        },
        "outputId": "f3ff523b-2557-4459-e017-e0087cbb491e"
      },
      "outputs": [
        {
          "output_type": "execute_result",
          "data": {
            "text/plain": [
              "1.199333333333334"
            ]
          },
          "metadata": {},
          "execution_count": 24
        }
      ],
      "source": [
        "sample4 = list(iris.data[:,3])\n",
        "\n",
        "def my_mean(sample4):\n",
        "    \"\"\"write a function to find the mean of the 4th column of iris data\"\"\"\n",
        "    #find mean value \n",
        "    sum = 0\n",
        "    for i in range(len(sample4)):\n",
        "      sum +=  sample4[i]\n",
        "    mean = sum/len(sample4) \n",
        "    return mean\n",
        "    # YOUR CODE HERE\n",
        "    #raise NotImplementedError()\n",
        "my_mean(sample4)    "
      ]
    },
    {
      "cell_type": "code",
      "execution_count": 25,
      "metadata": {
        "deletable": false,
        "editable": false,
        "id": "cMX-OqiwE5mT",
        "nbgrader": {
          "cell_type": "code",
          "checksum": "6ad8a1583e1a2915d2f80df7a3d19921",
          "grade": true,
          "grade_id": "my_mean_test",
          "locked": true,
          "points": 1,
          "schema_version": 3,
          "solution": false,
          "task": false
        }
      },
      "outputs": [],
      "source": [
        "\"\"\"Test your solution\"\"\"\n",
        "assert math.isclose(my_mean(sample4), 1.19, rel_tol=0.05)"
      ]
    },
    {
      "cell_type": "markdown",
      "metadata": {
        "id": "5yBAIFR7E5mT"
      },
      "source": [
        "## Question 5\n",
        "\n",
        "Write a Pandas program to calculate the correlation between column 1 and column 3 of `iris` dataset. `Hint` use `from scipy import stats` to find a Pearson correlation coefficient. "
      ]
    },
    {
      "cell_type": "code",
      "execution_count": 28,
      "metadata": {
        "deletable": false,
        "id": "tpt1FXQlE5mU",
        "nbgrader": {
          "cell_type": "code",
          "checksum": "4d8031d5466b59f4e2a1a4ecbcdbebf7",
          "grade": false,
          "grade_id": "iris_correlation_ans",
          "locked": false,
          "schema_version": 3,
          "solution": true,
          "task": false
        },
        "colab": {
          "base_uri": "https://localhost:8080/"
        },
        "outputId": "19b4721a-a913-4ce8-9563-3b8d95b59176"
      },
      "outputs": [
        {
          "output_type": "execute_result",
          "data": {
            "text/plain": [
              "0.8717537758865831"
            ]
          },
          "metadata": {},
          "execution_count": 28
        }
      ],
      "source": [
        "import itertools\n",
        "from scipy import stats\n",
        "sample1 = list(iris.data[:,0])\n",
        "sample2 = list(iris.data[:,2])\n",
        "def iris_correlation(sample1, sample2):\n",
        "    \"\"\"calculate the correlation\"\"\"\n",
        "    # YOUR CODE HERE\n",
        "    correlation,_ = stats.pearsonr(sample1,sample2)\n",
        "    return correlation\n",
        "    #raise NotImplementedError()\n",
        "iris_correlation(sample1, sample2)   "
      ]
    },
    {
      "cell_type": "code",
      "execution_count": 29,
      "metadata": {
        "id": "uJmHnGzKE5mU"
      },
      "outputs": [],
      "source": [
        "\"\"\"Test your solution\"\"\"\n",
        "assert math.isclose(iris_correlation(sample1, sample2), 0.87, rel_tol=0.05)"
      ]
    },
    {
      "cell_type": "code",
      "execution_count": null,
      "metadata": {
        "id": "-gQS2Cyb8rkw"
      },
      "outputs": [],
      "source": []
    }
  ],
  "metadata": {
    "colab": {
      "provenance": [],
      "include_colab_link": true
    },
    "kernelspec": {
      "display_name": "Python 3",
      "language": "python",
      "name": "python3"
    },
    "language_info": {
      "codemirror_mode": {
        "name": "ipython",
        "version": 3
      },
      "file_extension": ".py",
      "mimetype": "text/x-python",
      "name": "python",
      "nbconvert_exporter": "python",
      "pygments_lexer": "ipython3",
      "version": "3.7.10"
    }
  },
  "nbformat": 4,
  "nbformat_minor": 0
}